{
 "cells": [
  {
   "cell_type": "code",
   "execution_count": 103,
   "metadata": {},
   "outputs": [],
   "source": [
    "import bs4\n",
    "import pandas as pd\n",
    "import json\n",
    "from urllib.request import Request, urlopen\n",
    "import glob"
   ]
  },
  {
   "cell_type": "code",
   "execution_count": 98,
   "metadata": {},
   "outputs": [],
   "source": [
    "def scraper(page):\n",
    "    with open('htmls/' + str(page) + '.html', 'r') as html:\n",
    "        html = html.read()\n",
    "        bs = bs4.BeautifulSoup(html)\n",
    "        companies = []\n",
    "        columns = [\n",
    "            'company',\n",
    "            'description',\n",
    "            'website',\n",
    "            'region',\n",
    "            'year-selected',\n",
    "            'vertical',\n",
    "            'sub-vertical',\n",
    "            'entrepreneurs',\n",
    "            'fund',\n",
    "            'financing-round',\n",
    "            'status',\n",
    "            'year-invested'\n",
    "        ]\n",
    "        for company_i in range(len(bs.find_all(class_='company-details-inner'))):\n",
    "            company = []\n",
    "            try:\n",
    "                company.append(bs.find_all(class_='company-details-inner')[company_i].find('h2').text.strip())\n",
    "            except:\n",
    "                company.append('')\n",
    "            try:\n",
    "                company.append(bs.find_all(class_='company-details-inner')[company_i].find(class_=['company-description', 'small-paragraph']).text.strip())\n",
    "            except:\n",
    "                company.append('')\n",
    "            try:\n",
    "                company.append(bs.find_all(class_='company-details-inner')[company_i].find('span', class_='website').find('a')['href'].strip())\n",
    "            except:\n",
    "                company.append('')\n",
    "            try:\n",
    "                company.append(bs.find_all(class_='company-details-inner')[company_i].find('span',class_='region').text.strip())\n",
    "            except:\n",
    "                company.append('')\n",
    "            try:\n",
    "                company.append(bs.find_all(class_='company-details-inner')[company_i].find('span',class_='year-selected').text.split(' ')[1].strip())\n",
    "            except:\n",
    "                company.append('')\n",
    "            try:\n",
    "                company.append(bs.find_all(class_='company-details-inner')[company_i].find('span',class_='vertical').text.strip())\n",
    "            except:\n",
    "                company.append('')\n",
    "            try:\n",
    "                company.append(bs.find_all(class_='company-details-inner')[company_i].find('span',class_='sub-vertical').text.strip())\n",
    "            except:\n",
    "                company.append('')\n",
    "            entrepreneurs = []\n",
    "            for entrepreneur_i in range(len(bs.find_all(class_='company-details-inner')[company_i].find_all('span', class_='entrepreneur'))):\n",
    "                entrepreneur = {}\n",
    "                try:\n",
    "                    entrepreneur['name'] = bs.find_all(class_='company-details-inner')[company_i].find_all('span', class_='entrepreneur')[entrepreneur_i].text.strip()\n",
    "                except:\n",
    "                    entrepreneur['name'] = ''\n",
    "                try:\n",
    "                    entrepreneur['url'] = bs.find_all(class_='company-details-inner')[company_i].find_all('span', class_='entrepreneur')[entrepreneur_i].find('a').get('href', {}).strip()\n",
    "                except:\n",
    "                    entrepreneur['url'] = ''\n",
    "                entrepreneurs.append(json.dumps(entrepreneur))\n",
    "            company.append(entrepreneurs)\n",
    "            try:\n",
    "                company.append(bs.find_all(class_='company-details-inner')[company_i].find(class_='investment-info').find(class_='fund').text.strip())\n",
    "            except:\n",
    "                company.append('')\n",
    "            try:\n",
    "                company.append(bs.find_all(class_='company-details-inner')[company_i].find(class_='investment-info').find(class_='financing-round').text.strip())\n",
    "            except:\n",
    "                company.append('')\n",
    "            try:\n",
    "                company.append(bs.find_all(class_='company-details-inner')[company_i].find(class_='investment-info').find(class_='status').text.strip())\n",
    "            except:\n",
    "                company.append('')\n",
    "            try:\n",
    "                company.append(bs.find_all(class_='company-details-inner')[company_i].find(class_='year-invested').text.strip())\n",
    "            except:\n",
    "                company.append('')\n",
    "            companies.append(company)\n",
    "        pd.DataFrame(companies, columns=columns).to_csv('csvs/'+ str(page) + '.csv', index=False)\n"
   ]
  },
  {
   "cell_type": "code",
   "execution_count": null,
   "metadata": {},
   "outputs": [],
   "source": [
    "for i in range(2, 52):\n",
    "    url = \"https://endeavor.org/entrepreneur-companies/?_paged=\" + str(i)\n",
    "    print(url)\n",
    "    req = Request(url, headers={'User-Agent': 'Mozilla/5.0'})\n",
    "    webpage = urlopen(req).read()\n",
    "    with open('htmls/'+str(i)+'.html', 'w') as file:\n",
    "        file.write(webpage.decode())"
   ]
  },
  {
   "cell_type": "code",
   "execution_count": 110,
   "metadata": {},
   "outputs": [],
   "source": [
    "for i in range(1, 52):\n",
    "    scraper(i)"
   ]
  },
  {
   "cell_type": "code",
   "execution_count": 111,
   "metadata": {},
   "outputs": [],
   "source": [
    "csv_files = glob.glob(\"csvs/*.csv\")\n",
    "\n",
    "df_list = []\n",
    "for csv in csv_files:\n",
    "    df_list.append(pd.read_csv(csv))\n",
    "df_combined = pd.concat(df_list)\n",
    "\n",
    "df_combined.sort_values('company').reset_index(drop=True).to_csv('combined.csv')"
   ]
  }
 ],
 "metadata": {
  "kernelspec": {
   "display_name": "Python 3.8.10 64-bit",
   "language": "python",
   "name": "python3"
  },
  "language_info": {
   "codemirror_mode": {
    "name": "ipython",
    "version": 3
   },
   "file_extension": ".py",
   "mimetype": "text/x-python",
   "name": "python",
   "nbconvert_exporter": "python",
   "pygments_lexer": "ipython3",
   "version": "3.8.10"
  },
  "orig_nbformat": 4,
  "vscode": {
   "interpreter": {
    "hash": "e7370f93d1d0cde622a1f8e1c04877d8463912d04d973331ad4851f04de6915a"
   }
  }
 },
 "nbformat": 4,
 "nbformat_minor": 2
}
